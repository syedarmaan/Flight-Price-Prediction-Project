{
 "cells": [
  {
   "cell_type": "markdown",
   "metadata": {},
   "source": [
    "## Import Libraries"
   ]
  },
  {
   "cell_type": "code",
   "execution_count": 1,
   "metadata": {},
   "outputs": [],
   "source": [
    "import numpy as np\n",
    "import pandas as pd\n",
    "import matplotlib.pyplot as plt\n",
    "import seaborn as sns\n",
    "import warnings\n",
    "warnings.filterwarnings('ignore')"
   ]
  },
  {
   "cell_type": "code",
   "execution_count": 2,
   "metadata": {},
   "outputs": [
    {
     "data": {
      "text/html": [
       "<div>\n",
       "<style scoped>\n",
       "    .dataframe tbody tr th:only-of-type {\n",
       "        vertical-align: middle;\n",
       "    }\n",
       "\n",
       "    .dataframe tbody tr th {\n",
       "        vertical-align: top;\n",
       "    }\n",
       "\n",
       "    .dataframe thead th {\n",
       "        text-align: right;\n",
       "    }\n",
       "</style>\n",
       "<table border=\"1\" class=\"dataframe\">\n",
       "  <thead>\n",
       "    <tr style=\"text-align: right;\">\n",
       "      <th></th>\n",
       "      <th>Unnamed: 0</th>\n",
       "      <th>Airline</th>\n",
       "      <th>Source</th>\n",
       "      <th>Destination</th>\n",
       "      <th>Duration</th>\n",
       "      <th>Total stops</th>\n",
       "      <th>Price</th>\n",
       "      <th>Date</th>\n",
       "    </tr>\n",
       "  </thead>\n",
       "  <tbody>\n",
       "    <tr>\n",
       "      <th>0</th>\n",
       "      <td>0</td>\n",
       "      <td>Air India</td>\n",
       "      <td>DEL</td>\n",
       "      <td>BOM</td>\n",
       "      <td>2h 05m</td>\n",
       "      <td>nonstop</td>\n",
       "      <td>423 SAR</td>\n",
       "      <td>2022-04-01</td>\n",
       "    </tr>\n",
       "    <tr>\n",
       "      <th>1</th>\n",
       "      <td>1</td>\n",
       "      <td>Vistara</td>\n",
       "      <td>DEL</td>\n",
       "      <td>BOM</td>\n",
       "      <td>2h 00m</td>\n",
       "      <td>nonstop</td>\n",
       "      <td>360 SAR</td>\n",
       "      <td>2022-04-01</td>\n",
       "    </tr>\n",
       "    <tr>\n",
       "      <th>2</th>\n",
       "      <td>2</td>\n",
       "      <td>SpiceJet</td>\n",
       "      <td>DEL</td>\n",
       "      <td>BOM</td>\n",
       "      <td>2h 15m</td>\n",
       "      <td>nonstop</td>\n",
       "      <td>320 SAR</td>\n",
       "      <td>2022-04-01</td>\n",
       "    </tr>\n",
       "    <tr>\n",
       "      <th>3</th>\n",
       "      <td>3</td>\n",
       "      <td>Air India</td>\n",
       "      <td>DEL</td>\n",
       "      <td>BOM</td>\n",
       "      <td>2h 05m</td>\n",
       "      <td>nonstop</td>\n",
       "      <td>358 SAR</td>\n",
       "      <td>2022-04-01</td>\n",
       "    </tr>\n",
       "    <tr>\n",
       "      <th>4</th>\n",
       "      <td>4</td>\n",
       "      <td>Air India</td>\n",
       "      <td>DEL</td>\n",
       "      <td>BOM</td>\n",
       "      <td>2h 10m</td>\n",
       "      <td>nonstop</td>\n",
       "      <td>358 SAR</td>\n",
       "      <td>2022-04-01</td>\n",
       "    </tr>\n",
       "    <tr>\n",
       "      <th>...</th>\n",
       "      <td>...</td>\n",
       "      <td>...</td>\n",
       "      <td>...</td>\n",
       "      <td>...</td>\n",
       "      <td>...</td>\n",
       "      <td>...</td>\n",
       "      <td>...</td>\n",
       "      <td>...</td>\n",
       "    </tr>\n",
       "    <tr>\n",
       "      <th>1843</th>\n",
       "      <td>1843</td>\n",
       "      <td>SpiceJet</td>\n",
       "      <td>BOM</td>\n",
       "      <td>BLR</td>\n",
       "      <td>6h 55m</td>\n",
       "      <td>1 stop</td>\n",
       "      <td>1,909 SAR</td>\n",
       "      <td>2022-04-10</td>\n",
       "    </tr>\n",
       "    <tr>\n",
       "      <th>1844</th>\n",
       "      <td>1844</td>\n",
       "      <td>SpiceJet</td>\n",
       "      <td>BOM</td>\n",
       "      <td>BLR</td>\n",
       "      <td>6h 55m</td>\n",
       "      <td>1 stop</td>\n",
       "      <td>1,943 SAR</td>\n",
       "      <td>2022-04-10</td>\n",
       "    </tr>\n",
       "    <tr>\n",
       "      <th>1845</th>\n",
       "      <td>1845</td>\n",
       "      <td>Vistara</td>\n",
       "      <td>BOM</td>\n",
       "      <td>BLR</td>\n",
       "      <td>6h 25m</td>\n",
       "      <td>1 stop</td>\n",
       "      <td>732 SAR</td>\n",
       "      <td>2022-04-10</td>\n",
       "    </tr>\n",
       "    <tr>\n",
       "      <th>1846</th>\n",
       "      <td>1846</td>\n",
       "      <td>Vistara</td>\n",
       "      <td>BOM</td>\n",
       "      <td>BLR</td>\n",
       "      <td>6h 55m</td>\n",
       "      <td>1 stop</td>\n",
       "      <td>732 SAR</td>\n",
       "      <td>2022-04-10</td>\n",
       "    </tr>\n",
       "    <tr>\n",
       "      <th>1847</th>\n",
       "      <td>1847</td>\n",
       "      <td>Vistara</td>\n",
       "      <td>BOM</td>\n",
       "      <td>BLR</td>\n",
       "      <td>6h 55m</td>\n",
       "      <td>1 stop</td>\n",
       "      <td>778 SAR</td>\n",
       "      <td>2022-04-10</td>\n",
       "    </tr>\n",
       "  </tbody>\n",
       "</table>\n",
       "<p>1848 rows × 8 columns</p>\n",
       "</div>"
      ],
      "text/plain": [
       "      Unnamed: 0    Airline Source Destination Duration Total stops  \\\n",
       "0              0  Air India    DEL         BOM  2h 05m     nonstop    \n",
       "1              1    Vistara    DEL         BOM  2h 00m     nonstop    \n",
       "2              2   SpiceJet    DEL         BOM  2h 15m     nonstop    \n",
       "3              3  Air India    DEL         BOM  2h 05m     nonstop    \n",
       "4              4  Air India    DEL         BOM  2h 10m     nonstop    \n",
       "...          ...        ...    ...         ...      ...         ...   \n",
       "1843        1843   SpiceJet    BOM         BLR  6h 55m      1 stop    \n",
       "1844        1844   SpiceJet    BOM         BLR  6h 55m      1 stop    \n",
       "1845        1845    Vistara    BOM         BLR  6h 25m      1 stop    \n",
       "1846        1846    Vistara    BOM         BLR  6h 55m      1 stop    \n",
       "1847        1847    Vistara    BOM         BLR  6h 55m      1 stop    \n",
       "\n",
       "           Price        Date  \n",
       "0       423 SAR   2022-04-01  \n",
       "1       360 SAR   2022-04-01  \n",
       "2       320 SAR   2022-04-01  \n",
       "3       358 SAR   2022-04-01  \n",
       "4       358 SAR   2022-04-01  \n",
       "...          ...         ...  \n",
       "1843  1,909 SAR   2022-04-10  \n",
       "1844  1,943 SAR   2022-04-10  \n",
       "1845    732 SAR   2022-04-10  \n",
       "1846    732 SAR   2022-04-10  \n",
       "1847    778 SAR   2022-04-10  \n",
       "\n",
       "[1848 rows x 8 columns]"
      ]
     },
     "execution_count": 2,
     "metadata": {},
     "output_type": "execute_result"
    }
   ],
   "source": [
    "# Loading Dataset\n",
    "data = pd.read_csv('df_flight.csv')\n",
    "data"
   ]
  },
  {
   "cell_type": "code",
   "execution_count": 3,
   "metadata": {},
   "outputs": [],
   "source": [
    "# Delete unwanted column\n",
    "data.drop(columns='Unnamed: 0', axis=1, inplace=True)"
   ]
  },
  {
   "cell_type": "code",
   "execution_count": 4,
   "metadata": {},
   "outputs": [
    {
     "data": {
      "text/html": [
       "<div>\n",
       "<style scoped>\n",
       "    .dataframe tbody tr th:only-of-type {\n",
       "        vertical-align: middle;\n",
       "    }\n",
       "\n",
       "    .dataframe tbody tr th {\n",
       "        vertical-align: top;\n",
       "    }\n",
       "\n",
       "    .dataframe thead th {\n",
       "        text-align: right;\n",
       "    }\n",
       "</style>\n",
       "<table border=\"1\" class=\"dataframe\">\n",
       "  <thead>\n",
       "    <tr style=\"text-align: right;\">\n",
       "      <th></th>\n",
       "      <th>Airline</th>\n",
       "      <th>Source</th>\n",
       "      <th>Destination</th>\n",
       "      <th>Duration</th>\n",
       "      <th>Total stops</th>\n",
       "      <th>Price</th>\n",
       "      <th>Date</th>\n",
       "    </tr>\n",
       "  </thead>\n",
       "  <tbody>\n",
       "    <tr>\n",
       "      <th>0</th>\n",
       "      <td>Air India</td>\n",
       "      <td>DEL</td>\n",
       "      <td>BOM</td>\n",
       "      <td>2h 05m</td>\n",
       "      <td>nonstop</td>\n",
       "      <td>423 SAR</td>\n",
       "      <td>2022-04-01</td>\n",
       "    </tr>\n",
       "    <tr>\n",
       "      <th>1</th>\n",
       "      <td>Vistara</td>\n",
       "      <td>DEL</td>\n",
       "      <td>BOM</td>\n",
       "      <td>2h 00m</td>\n",
       "      <td>nonstop</td>\n",
       "      <td>360 SAR</td>\n",
       "      <td>2022-04-01</td>\n",
       "    </tr>\n",
       "    <tr>\n",
       "      <th>2</th>\n",
       "      <td>SpiceJet</td>\n",
       "      <td>DEL</td>\n",
       "      <td>BOM</td>\n",
       "      <td>2h 15m</td>\n",
       "      <td>nonstop</td>\n",
       "      <td>320 SAR</td>\n",
       "      <td>2022-04-01</td>\n",
       "    </tr>\n",
       "    <tr>\n",
       "      <th>3</th>\n",
       "      <td>Air India</td>\n",
       "      <td>DEL</td>\n",
       "      <td>BOM</td>\n",
       "      <td>2h 05m</td>\n",
       "      <td>nonstop</td>\n",
       "      <td>358 SAR</td>\n",
       "      <td>2022-04-01</td>\n",
       "    </tr>\n",
       "    <tr>\n",
       "      <th>4</th>\n",
       "      <td>Air India</td>\n",
       "      <td>DEL</td>\n",
       "      <td>BOM</td>\n",
       "      <td>2h 10m</td>\n",
       "      <td>nonstop</td>\n",
       "      <td>358 SAR</td>\n",
       "      <td>2022-04-01</td>\n",
       "    </tr>\n",
       "  </tbody>\n",
       "</table>\n",
       "</div>"
      ],
      "text/plain": [
       "     Airline Source Destination Duration Total stops     Price        Date\n",
       "0  Air India    DEL         BOM  2h 05m     nonstop   423 SAR   2022-04-01\n",
       "1    Vistara    DEL         BOM  2h 00m     nonstop   360 SAR   2022-04-01\n",
       "2   SpiceJet    DEL         BOM  2h 15m     nonstop   320 SAR   2022-04-01\n",
       "3  Air India    DEL         BOM  2h 05m     nonstop   358 SAR   2022-04-01\n",
       "4  Air India    DEL         BOM  2h 10m     nonstop   358 SAR   2022-04-01"
      ]
     },
     "execution_count": 4,
     "metadata": {},
     "output_type": "execute_result"
    }
   ],
   "source": [
    "# Top 5 rows of dataset\n",
    "data.head()"
   ]
  },
  {
   "cell_type": "code",
   "execution_count": 5,
   "metadata": {},
   "outputs": [
    {
     "data": {
      "text/plain": [
       "(1848, 7)"
      ]
     },
     "execution_count": 5,
     "metadata": {},
     "output_type": "execute_result"
    }
   ],
   "source": [
    "# Checking dimension of dataset\n",
    "data.shape"
   ]
  },
  {
   "cell_type": "code",
   "execution_count": 6,
   "metadata": {},
   "outputs": [
    {
     "data": {
      "text/plain": [
       "Airline        0\n",
       "Source         0\n",
       "Destination    0\n",
       "Duration       0\n",
       "Total stops    0\n",
       "Price          0\n",
       "Date           0\n",
       "dtype: int64"
      ]
     },
     "execution_count": 6,
     "metadata": {},
     "output_type": "execute_result"
    }
   ],
   "source": [
    "# Checking missing values\n",
    "data.isnull().sum()"
   ]
  },
  {
   "cell_type": "code",
   "execution_count": 7,
   "metadata": {},
   "outputs": [
    {
     "name": "stdout",
     "output_type": "stream",
     "text": [
      "<class 'pandas.core.frame.DataFrame'>\n",
      "RangeIndex: 1848 entries, 0 to 1847\n",
      "Data columns (total 7 columns):\n",
      " #   Column       Non-Null Count  Dtype \n",
      "---  ------       --------------  ----- \n",
      " 0   Airline      1848 non-null   object\n",
      " 1   Source       1848 non-null   object\n",
      " 2   Destination  1848 non-null   object\n",
      " 3   Duration     1848 non-null   object\n",
      " 4   Total stops  1848 non-null   object\n",
      " 5   Price        1848 non-null   object\n",
      " 6   Date         1848 non-null   object\n",
      "dtypes: object(7)\n",
      "memory usage: 101.2+ KB\n"
     ]
    }
   ],
   "source": [
    "# Information about dataset\n",
    "data.info()"
   ]
  },
  {
   "cell_type": "code",
   "execution_count": 8,
   "metadata": {},
   "outputs": [
    {
     "data": {
      "text/plain": [
       "array(['Air India', 'Vistara', 'SpiceJet', 'IndiGo', 'GoFirst',\n",
       "       'AirAsia India', 'IndiGo, AirAsia India', 'Air India, SpiceJet',\n",
       "       'Vistara, IndiGo', 'Vistara, AirAsia India', 'SpiceJet, IndiGo',\n",
       "       'Air India, IndiGo', 'SpiceJet, Alaska Seaplanes',\n",
       "       'Alaska Seaplanes, SpiceJet', 'AirAsia India, IndiGo',\n",
       "       'IndiGo, GoFirst', 'GoFirst, IndiGo', 'IndiGo, Air India',\n",
       "       'Nepal Airlines', 'IndiGo, Vistara', 'SriLankan Airlines',\n",
       "       'Vistara, GoFirst', 'Air India Express, IndiGo'], dtype=object)"
      ]
     },
     "execution_count": 8,
     "metadata": {},
     "output_type": "execute_result"
    }
   ],
   "source": [
    "data['Airline'].unique()"
   ]
  },
  {
   "cell_type": "code",
   "execution_count": 9,
   "metadata": {},
   "outputs": [
    {
     "data": {
      "text/plain": [
       "DEL    1116\n",
       "BOM     732\n",
       "Name: Source, dtype: int64"
      ]
     },
     "execution_count": 9,
     "metadata": {},
     "output_type": "execute_result"
    }
   ],
   "source": [
    "data['Source'].value_counts()"
   ]
  },
  {
   "cell_type": "code",
   "execution_count": 10,
   "metadata": {},
   "outputs": [
    {
     "data": {
      "text/plain": [
       "BOM    1116\n",
       "BLR     732\n",
       "Name: Destination, dtype: int64"
      ]
     },
     "execution_count": 10,
     "metadata": {},
     "output_type": "execute_result"
    }
   ],
   "source": [
    "data['Destination'].value_counts()"
   ]
  },
  {
   "cell_type": "code",
   "execution_count": 11,
   "metadata": {},
   "outputs": [],
   "source": [
    "data['Price'] = data['Price'].str.replace('SAR','',regex=True)\n",
    "data['Price'] = data['Price'].str.replace(',','',regex=True)"
   ]
  },
  {
   "cell_type": "code",
   "execution_count": 12,
   "metadata": {},
   "outputs": [],
   "source": [
    "data['Price'] = data['Price'].astype(int)"
   ]
  },
  {
   "cell_type": "code",
   "execution_count": 13,
   "metadata": {},
   "outputs": [
    {
     "data": {
      "text/html": [
       "<div>\n",
       "<style scoped>\n",
       "    .dataframe tbody tr th:only-of-type {\n",
       "        vertical-align: middle;\n",
       "    }\n",
       "\n",
       "    .dataframe tbody tr th {\n",
       "        vertical-align: top;\n",
       "    }\n",
       "\n",
       "    .dataframe thead th {\n",
       "        text-align: right;\n",
       "    }\n",
       "</style>\n",
       "<table border=\"1\" class=\"dataframe\">\n",
       "  <thead>\n",
       "    <tr style=\"text-align: right;\">\n",
       "      <th></th>\n",
       "      <th>Airline</th>\n",
       "      <th>Source</th>\n",
       "      <th>Destination</th>\n",
       "      <th>Duration</th>\n",
       "      <th>Total stops</th>\n",
       "      <th>Price</th>\n",
       "      <th>Date</th>\n",
       "    </tr>\n",
       "  </thead>\n",
       "  <tbody>\n",
       "    <tr>\n",
       "      <th>0</th>\n",
       "      <td>Air India</td>\n",
       "      <td>DEL</td>\n",
       "      <td>BOM</td>\n",
       "      <td>2h 05m</td>\n",
       "      <td>nonstop</td>\n",
       "      <td>423</td>\n",
       "      <td>2022-04-01</td>\n",
       "    </tr>\n",
       "    <tr>\n",
       "      <th>1</th>\n",
       "      <td>Vistara</td>\n",
       "      <td>DEL</td>\n",
       "      <td>BOM</td>\n",
       "      <td>2h 00m</td>\n",
       "      <td>nonstop</td>\n",
       "      <td>360</td>\n",
       "      <td>2022-04-01</td>\n",
       "    </tr>\n",
       "    <tr>\n",
       "      <th>2</th>\n",
       "      <td>SpiceJet</td>\n",
       "      <td>DEL</td>\n",
       "      <td>BOM</td>\n",
       "      <td>2h 15m</td>\n",
       "      <td>nonstop</td>\n",
       "      <td>320</td>\n",
       "      <td>2022-04-01</td>\n",
       "    </tr>\n",
       "    <tr>\n",
       "      <th>3</th>\n",
       "      <td>Air India</td>\n",
       "      <td>DEL</td>\n",
       "      <td>BOM</td>\n",
       "      <td>2h 05m</td>\n",
       "      <td>nonstop</td>\n",
       "      <td>358</td>\n",
       "      <td>2022-04-01</td>\n",
       "    </tr>\n",
       "    <tr>\n",
       "      <th>4</th>\n",
       "      <td>Air India</td>\n",
       "      <td>DEL</td>\n",
       "      <td>BOM</td>\n",
       "      <td>2h 10m</td>\n",
       "      <td>nonstop</td>\n",
       "      <td>358</td>\n",
       "      <td>2022-04-01</td>\n",
       "    </tr>\n",
       "    <tr>\n",
       "      <th>...</th>\n",
       "      <td>...</td>\n",
       "      <td>...</td>\n",
       "      <td>...</td>\n",
       "      <td>...</td>\n",
       "      <td>...</td>\n",
       "      <td>...</td>\n",
       "      <td>...</td>\n",
       "    </tr>\n",
       "    <tr>\n",
       "      <th>1843</th>\n",
       "      <td>SpiceJet</td>\n",
       "      <td>BOM</td>\n",
       "      <td>BLR</td>\n",
       "      <td>6h 55m</td>\n",
       "      <td>1 stop</td>\n",
       "      <td>1909</td>\n",
       "      <td>2022-04-10</td>\n",
       "    </tr>\n",
       "    <tr>\n",
       "      <th>1844</th>\n",
       "      <td>SpiceJet</td>\n",
       "      <td>BOM</td>\n",
       "      <td>BLR</td>\n",
       "      <td>6h 55m</td>\n",
       "      <td>1 stop</td>\n",
       "      <td>1943</td>\n",
       "      <td>2022-04-10</td>\n",
       "    </tr>\n",
       "    <tr>\n",
       "      <th>1845</th>\n",
       "      <td>Vistara</td>\n",
       "      <td>BOM</td>\n",
       "      <td>BLR</td>\n",
       "      <td>6h 25m</td>\n",
       "      <td>1 stop</td>\n",
       "      <td>732</td>\n",
       "      <td>2022-04-10</td>\n",
       "    </tr>\n",
       "    <tr>\n",
       "      <th>1846</th>\n",
       "      <td>Vistara</td>\n",
       "      <td>BOM</td>\n",
       "      <td>BLR</td>\n",
       "      <td>6h 55m</td>\n",
       "      <td>1 stop</td>\n",
       "      <td>732</td>\n",
       "      <td>2022-04-10</td>\n",
       "    </tr>\n",
       "    <tr>\n",
       "      <th>1847</th>\n",
       "      <td>Vistara</td>\n",
       "      <td>BOM</td>\n",
       "      <td>BLR</td>\n",
       "      <td>6h 55m</td>\n",
       "      <td>1 stop</td>\n",
       "      <td>778</td>\n",
       "      <td>2022-04-10</td>\n",
       "    </tr>\n",
       "  </tbody>\n",
       "</table>\n",
       "<p>1848 rows × 7 columns</p>\n",
       "</div>"
      ],
      "text/plain": [
       "        Airline Source Destination Duration Total stops  Price        Date\n",
       "0     Air India    DEL         BOM  2h 05m     nonstop     423  2022-04-01\n",
       "1       Vistara    DEL         BOM  2h 00m     nonstop     360  2022-04-01\n",
       "2      SpiceJet    DEL         BOM  2h 15m     nonstop     320  2022-04-01\n",
       "3     Air India    DEL         BOM  2h 05m     nonstop     358  2022-04-01\n",
       "4     Air India    DEL         BOM  2h 10m     nonstop     358  2022-04-01\n",
       "...         ...    ...         ...      ...         ...    ...         ...\n",
       "1843   SpiceJet    BOM         BLR  6h 55m      1 stop    1909  2022-04-10\n",
       "1844   SpiceJet    BOM         BLR  6h 55m      1 stop    1943  2022-04-10\n",
       "1845    Vistara    BOM         BLR  6h 25m      1 stop     732  2022-04-10\n",
       "1846    Vistara    BOM         BLR  6h 55m      1 stop     732  2022-04-10\n",
       "1847    Vistara    BOM         BLR  6h 55m      1 stop     778  2022-04-10\n",
       "\n",
       "[1848 rows x 7 columns]"
      ]
     },
     "execution_count": 13,
     "metadata": {},
     "output_type": "execute_result"
    }
   ],
   "source": [
    "data"
   ]
  },
  {
   "cell_type": "code",
   "execution_count": 14,
   "metadata": {},
   "outputs": [],
   "source": [
    "data['Date'] = pd.to_datetime(data['Date'])     "
   ]
  },
  {
   "cell_type": "code",
   "execution_count": 15,
   "metadata": {},
   "outputs": [
    {
     "data": {
      "text/plain": [
       "Airline                object\n",
       "Source                 object\n",
       "Destination            object\n",
       "Duration               object\n",
       "Total stops            object\n",
       "Price                   int32\n",
       "Date           datetime64[ns]\n",
       "dtype: object"
      ]
     },
     "execution_count": 15,
     "metadata": {},
     "output_type": "execute_result"
    }
   ],
   "source": [
    "data.dtypes"
   ]
  },
  {
   "cell_type": "markdown",
   "metadata": {},
   "source": [
    "## Data Visualization"
   ]
  },
  {
   "cell_type": "code",
   "execution_count": 16,
   "metadata": {},
   "outputs": [
    {
     "data": {
      "text/plain": [
       "<seaborn.axisgrid.FacetGrid at 0x172ff867608>"
      ]
     },
     "execution_count": 16,
     "metadata": {},
     "output_type": "execute_result"
    },
    {
     "data": {
      "image/png": "[encoded data removed]",
      "text/plain": [
       "<Figure size 1296x432 with 1 Axes>"
      ]
     },
     "metadata": {
      "needs_background": "light"
     },
     "output_type": "display_data"
    }
   ],
   "source": [
    "# source vs price\n",
    "sns.catplot(y = \"Price\", x= \"Source\", data = data.sort_values(\"Price\", ascending = False), kind=\"boxen\", height = 6, aspect = 3)"
   ]
  },
  {
   "cell_type": "code",
   "execution_count": 17,
   "metadata": {},
   "outputs": [
    {
     "data": {
      "text/plain": [
       "<seaborn.axisgrid.FacetGrid at 0x1728131b488>"
      ]
     },
     "execution_count": 17,
     "metadata": {},
     "output_type": "execute_result"
    },
    {
     "data": {
      "image/png": "[encoded data removed]",
      "text/plain": [
       "<Figure size 1296x432 with 1 Axes>"
      ]
     },
     "metadata": {
      "needs_background": "light"
     },
     "output_type": "display_data"
    }
   ],
   "source": [
    "# source vs price\n",
    "sns.catplot(y = \"Price\", x= \"Destination\", data = data.sort_values(\"Price\", ascending = False), kind=\"boxen\", height = 6, aspect = 3)"
   ]
  },
  {
   "cell_type": "code",
   "execution_count": 18,
   "metadata": {},
   "outputs": [
    {
     "name": "stdout",
     "output_type": "stream",
     "text": [
      "nonstop     944\n",
      "1 stop      902\n",
      "2 stops       2\n",
      "Name: Total stops, dtype: int64\n"
     ]
    },
    {
     "data": {
      "text/plain": [
       "array(['nonstop ', '1 stop ', '2 stops '], dtype=object)"
      ]
     },
     "execution_count": 18,
     "metadata": {},
     "output_type": "execute_result"
    }
   ],
   "source": [
    "# Total stops\n",
    "print(data[\"Total stops\"].value_counts())\n",
    "data[\"Total stops\"].unique()"
   ]
  },
  {
   "cell_type": "code",
   "execution_count": 19,
   "metadata": {},
   "outputs": [],
   "source": [
    "# Performing LabelEncoder on Total stops since it's ordinal categorical data\n",
    "data.replace({\"nonstop \":0, \"1 stop \": 1, \"2 stops \": 2, \"3 stops \":3}, inplace=True)"
   ]
  },
  {
   "cell_type": "code",
   "execution_count": 20,
   "metadata": {},
   "outputs": [
    {
     "data": {
      "text/html": [
       "<div>\n",
       "<style scoped>\n",
       "    .dataframe tbody tr th:only-of-type {\n",
       "        vertical-align: middle;\n",
       "    }\n",
       "\n",
       "    .dataframe tbody tr th {\n",
       "        vertical-align: top;\n",
       "    }\n",
       "\n",
       "    .dataframe thead th {\n",
       "        text-align: right;\n",
       "    }\n",
       "</style>\n",
       "<table border=\"1\" class=\"dataframe\">\n",
       "  <thead>\n",
       "    <tr style=\"text-align: right;\">\n",
       "      <th></th>\n",
       "      <th>Airline</th>\n",
       "      <th>Source</th>\n",
       "      <th>Destination</th>\n",
       "      <th>Duration</th>\n",
       "      <th>Total stops</th>\n",
       "      <th>Price</th>\n",
       "      <th>Date</th>\n",
       "    </tr>\n",
       "  </thead>\n",
       "  <tbody>\n",
       "    <tr>\n",
       "      <th>0</th>\n",
       "      <td>Air India</td>\n",
       "      <td>DEL</td>\n",
       "      <td>BOM</td>\n",
       "      <td>2h 05m</td>\n",
       "      <td>0</td>\n",
       "      <td>423</td>\n",
       "      <td>2022-04-01</td>\n",
       "    </tr>\n",
       "    <tr>\n",
       "      <th>1</th>\n",
       "      <td>Vistara</td>\n",
       "      <td>DEL</td>\n",
       "      <td>BOM</td>\n",
       "      <td>2h 00m</td>\n",
       "      <td>0</td>\n",
       "      <td>360</td>\n",
       "      <td>2022-04-01</td>\n",
       "    </tr>\n",
       "    <tr>\n",
       "      <th>2</th>\n",
       "      <td>SpiceJet</td>\n",
       "      <td>DEL</td>\n",
       "      <td>BOM</td>\n",
       "      <td>2h 15m</td>\n",
       "      <td>0</td>\n",
       "      <td>320</td>\n",
       "      <td>2022-04-01</td>\n",
       "    </tr>\n",
       "    <tr>\n",
       "      <th>3</th>\n",
       "      <td>Air India</td>\n",
       "      <td>DEL</td>\n",
       "      <td>BOM</td>\n",
       "      <td>2h 05m</td>\n",
       "      <td>0</td>\n",
       "      <td>358</td>\n",
       "      <td>2022-04-01</td>\n",
       "    </tr>\n",
       "    <tr>\n",
       "      <th>4</th>\n",
       "      <td>Air India</td>\n",
       "      <td>DEL</td>\n",
       "      <td>BOM</td>\n",
       "      <td>2h 10m</td>\n",
       "      <td>0</td>\n",
       "      <td>358</td>\n",
       "      <td>2022-04-01</td>\n",
       "    </tr>\n",
       "    <tr>\n",
       "      <th>...</th>\n",
       "      <td>...</td>\n",
       "      <td>...</td>\n",
       "      <td>...</td>\n",
       "      <td>...</td>\n",
       "      <td>...</td>\n",
       "      <td>...</td>\n",
       "      <td>...</td>\n",
       "    </tr>\n",
       "    <tr>\n",
       "      <th>1843</th>\n",
       "      <td>SpiceJet</td>\n",
       "      <td>BOM</td>\n",
       "      <td>BLR</td>\n",
       "      <td>6h 55m</td>\n",
       "      <td>1</td>\n",
       "      <td>1909</td>\n",
       "      <td>2022-04-10</td>\n",
       "    </tr>\n",
       "    <tr>\n",
       "      <th>1844</th>\n",
       "      <td>SpiceJet</td>\n",
       "      <td>BOM</td>\n",
       "      <td>BLR</td>\n",
       "      <td>6h 55m</td>\n",
       "      <td>1</td>\n",
       "      <td>1943</td>\n",
       "      <td>2022-04-10</td>\n",
       "    </tr>\n",
       "    <tr>\n",
       "      <th>1845</th>\n",
       "      <td>Vistara</td>\n",
       "      <td>BOM</td>\n",
       "      <td>BLR</td>\n",
       "      <td>6h 25m</td>\n",
       "      <td>1</td>\n",
       "      <td>732</td>\n",
       "      <td>2022-04-10</td>\n",
       "    </tr>\n",
       "    <tr>\n",
       "      <th>1846</th>\n",
       "      <td>Vistara</td>\n",
       "      <td>BOM</td>\n",
       "      <td>BLR</td>\n",
       "      <td>6h 55m</td>\n",
       "      <td>1</td>\n",
       "      <td>732</td>\n",
       "      <td>2022-04-10</td>\n",
       "    </tr>\n",
       "    <tr>\n",
       "      <th>1847</th>\n",
       "      <td>Vistara</td>\n",
       "      <td>BOM</td>\n",
       "      <td>BLR</td>\n",
       "      <td>6h 55m</td>\n",
       "      <td>1</td>\n",
       "      <td>778</td>\n",
       "      <td>2022-04-10</td>\n",
       "    </tr>\n",
       "  </tbody>\n",
       "</table>\n",
       "<p>1848 rows × 7 columns</p>\n",
       "</div>"
      ],
      "text/plain": [
       "        Airline Source Destination Duration  Total stops  Price       Date\n",
       "0     Air India    DEL         BOM  2h 05m             0    423 2022-04-01\n",
       "1       Vistara    DEL         BOM  2h 00m             0    360 2022-04-01\n",
       "2      SpiceJet    DEL         BOM  2h 15m             0    320 2022-04-01\n",
       "3     Air India    DEL         BOM  2h 05m             0    358 2022-04-01\n",
       "4     Air India    DEL         BOM  2h 10m             0    358 2022-04-01\n",
       "...         ...    ...         ...      ...          ...    ...        ...\n",
       "1843   SpiceJet    BOM         BLR  6h 55m             1   1909 2022-04-10\n",
       "1844   SpiceJet    BOM         BLR  6h 55m             1   1943 2022-04-10\n",
       "1845    Vistara    BOM         BLR  6h 25m             1    732 2022-04-10\n",
       "1846    Vistara    BOM         BLR  6h 55m             1    732 2022-04-10\n",
       "1847    Vistara    BOM         BLR  6h 55m             1    778 2022-04-10\n",
       "\n",
       "[1848 rows x 7 columns]"
      ]
     },
     "execution_count": 20,
     "metadata": {},
     "output_type": "execute_result"
    }
   ],
   "source": [
    "data"
   ]
  },
  {
   "cell_type": "code",
   "execution_count": 21,
   "metadata": {},
   "outputs": [],
   "source": [
    "# Performing LabelEncoder on Source and Destination since it's ordinal categorical data\n",
    "data.replace({\"DEL\":1, \"BOM\": 2, \"BLR\": 3}, inplace=True)"
   ]
  },
  {
   "cell_type": "code",
   "execution_count": 22,
   "metadata": {},
   "outputs": [
    {
     "data": {
      "text/html": [
       "<div>\n",
       "<style scoped>\n",
       "    .dataframe tbody tr th:only-of-type {\n",
       "        vertical-align: middle;\n",
       "    }\n",
       "\n",
       "    .dataframe tbody tr th {\n",
       "        vertical-align: top;\n",
       "    }\n",
       "\n",
       "    .dataframe thead th {\n",
       "        text-align: right;\n",
       "    }\n",
       "</style>\n",
       "<table border=\"1\" class=\"dataframe\">\n",
       "  <thead>\n",
       "    <tr style=\"text-align: right;\">\n",
       "      <th></th>\n",
       "      <th>Source</th>\n",
       "      <th>Destination</th>\n",
       "      <th>Total stops</th>\n",
       "      <th>Price</th>\n",
       "    </tr>\n",
       "  </thead>\n",
       "  <tbody>\n",
       "    <tr>\n",
       "      <th>Source</th>\n",
       "      <td>1.000000</td>\n",
       "      <td>1.000000</td>\n",
       "      <td>0.077416</td>\n",
       "      <td>-0.110924</td>\n",
       "    </tr>\n",
       "    <tr>\n",
       "      <th>Destination</th>\n",
       "      <td>1.000000</td>\n",
       "      <td>1.000000</td>\n",
       "      <td>0.077416</td>\n",
       "      <td>-0.110924</td>\n",
       "    </tr>\n",
       "    <tr>\n",
       "      <th>Total stops</th>\n",
       "      <td>0.077416</td>\n",
       "      <td>0.077416</td>\n",
       "      <td>1.000000</td>\n",
       "      <td>0.417396</td>\n",
       "    </tr>\n",
       "    <tr>\n",
       "      <th>Price</th>\n",
       "      <td>-0.110924</td>\n",
       "      <td>-0.110924</td>\n",
       "      <td>0.417396</td>\n",
       "      <td>1.000000</td>\n",
       "    </tr>\n",
       "  </tbody>\n",
       "</table>\n",
       "</div>"
      ],
      "text/plain": [
       "               Source  Destination  Total stops     Price\n",
       "Source       1.000000     1.000000     0.077416 -0.110924\n",
       "Destination  1.000000     1.000000     0.077416 -0.110924\n",
       "Total stops  0.077416     0.077416     1.000000  0.417396\n",
       "Price       -0.110924    -0.110924     0.417396  1.000000"
      ]
     },
     "execution_count": 22,
     "metadata": {},
     "output_type": "execute_result"
    }
   ],
   "source": [
    "# Correlation of dataset\n",
    "corr = data.corr()\n",
    "corr"
   ]
  },
  {
   "cell_type": "code",
   "execution_count": 23,
   "metadata": {},
   "outputs": [
    {
     "data": {
      "image/png": "[encoded data removed]",
      "text/plain": [
       "<Figure size 1296x1296 with 2 Axes>"
      ]
     },
     "metadata": {
      "needs_background": "light"
     },
     "output_type": "display_data"
    }
   ],
   "source": [
    "# Heat map\n",
    "plt.figure(figsize = (18,18))\n",
    "sns.heatmap(data.corr(),annot= True, cmap = \"coolwarm\", linewidths=2, linecolor='black')\n",
    "plt.show()"
   ]
  },
  {
   "cell_type": "code",
   "execution_count": 24,
   "metadata": {},
   "outputs": [],
   "source": [
    "# Delete unnecessary columns\n",
    "data.drop(columns=['Airline', 'Duration'], axis=1, inplace= True)"
   ]
  },
  {
   "cell_type": "code",
   "execution_count": 25,
   "metadata": {},
   "outputs": [],
   "source": [
    "data.drop(columns=['Date'], axis=1, inplace= True)"
   ]
  },
  {
   "cell_type": "code",
   "execution_count": 26,
   "metadata": {},
   "outputs": [
    {
     "data": {
      "text/plain": [
       "Source         int64\n",
       "Destination    int64\n",
       "Total stops    int64\n",
       "Price          int32\n",
       "dtype: object"
      ]
     },
     "execution_count": 26,
     "metadata": {},
     "output_type": "execute_result"
    }
   ],
   "source": [
    "data.dtypes"
   ]
  },
  {
   "cell_type": "code",
   "execution_count": 27,
   "metadata": {},
   "outputs": [
    {
     "data": {
      "text/html": [
       "<div>\n",
       "<style scoped>\n",
       "    .dataframe tbody tr th:only-of-type {\n",
       "        vertical-align: middle;\n",
       "    }\n",
       "\n",
       "    .dataframe tbody tr th {\n",
       "        vertical-align: top;\n",
       "    }\n",
       "\n",
       "    .dataframe thead th {\n",
       "        text-align: right;\n",
       "    }\n",
       "</style>\n",
       "<table border=\"1\" class=\"dataframe\">\n",
       "  <thead>\n",
       "    <tr style=\"text-align: right;\">\n",
       "      <th></th>\n",
       "      <th>Source</th>\n",
       "      <th>Destination</th>\n",
       "      <th>Total stops</th>\n",
       "      <th>Price</th>\n",
       "    </tr>\n",
       "  </thead>\n",
       "  <tbody>\n",
       "    <tr>\n",
       "      <th>count</th>\n",
       "      <td>1848.000000</td>\n",
       "      <td>1848.000000</td>\n",
       "      <td>1848.000000</td>\n",
       "      <td>1848.000000</td>\n",
       "    </tr>\n",
       "    <tr>\n",
       "      <th>mean</th>\n",
       "      <td>1.396104</td>\n",
       "      <td>2.396104</td>\n",
       "      <td>0.490260</td>\n",
       "      <td>503.931277</td>\n",
       "    </tr>\n",
       "    <tr>\n",
       "      <th>std</th>\n",
       "      <td>0.489219</td>\n",
       "      <td>0.489219</td>\n",
       "      <td>0.502201</td>\n",
       "      <td>399.231634</td>\n",
       "    </tr>\n",
       "    <tr>\n",
       "      <th>min</th>\n",
       "      <td>1.000000</td>\n",
       "      <td>2.000000</td>\n",
       "      <td>0.000000</td>\n",
       "      <td>239.000000</td>\n",
       "    </tr>\n",
       "    <tr>\n",
       "      <th>25%</th>\n",
       "      <td>1.000000</td>\n",
       "      <td>2.000000</td>\n",
       "      <td>0.000000</td>\n",
       "      <td>300.750000</td>\n",
       "    </tr>\n",
       "    <tr>\n",
       "      <th>50%</th>\n",
       "      <td>1.000000</td>\n",
       "      <td>2.000000</td>\n",
       "      <td>0.000000</td>\n",
       "      <td>358.000000</td>\n",
       "    </tr>\n",
       "    <tr>\n",
       "      <th>75%</th>\n",
       "      <td>2.000000</td>\n",
       "      <td>3.000000</td>\n",
       "      <td>1.000000</td>\n",
       "      <td>553.000000</td>\n",
       "    </tr>\n",
       "    <tr>\n",
       "      <th>max</th>\n",
       "      <td>2.000000</td>\n",
       "      <td>3.000000</td>\n",
       "      <td>2.000000</td>\n",
       "      <td>3646.000000</td>\n",
       "    </tr>\n",
       "  </tbody>\n",
       "</table>\n",
       "</div>"
      ],
      "text/plain": [
       "            Source  Destination  Total stops        Price\n",
       "count  1848.000000  1848.000000  1848.000000  1848.000000\n",
       "mean      1.396104     2.396104     0.490260   503.931277\n",
       "std       0.489219     0.489219     0.502201   399.231634\n",
       "min       1.000000     2.000000     0.000000   239.000000\n",
       "25%       1.000000     2.000000     0.000000   300.750000\n",
       "50%       1.000000     2.000000     0.000000   358.000000\n",
       "75%       2.000000     3.000000     1.000000   553.000000\n",
       "max       2.000000     3.000000     2.000000  3646.000000"
      ]
     },
     "execution_count": 27,
     "metadata": {},
     "output_type": "execute_result"
    }
   ],
   "source": [
    "# Statistical summary\n",
    "data.describe()"
   ]
  },
  {
   "cell_type": "markdown",
   "metadata": {},
   "source": [
    "## Building the model"
   ]
  },
  {
   "cell_type": "code",
   "execution_count": 28,
   "metadata": {},
   "outputs": [],
   "source": [
    "# Spliting the data\n",
    "x=data.drop(columns=['Price'])\n",
    "y=data['Price']"
   ]
  },
  {
   "cell_type": "code",
   "execution_count": 29,
   "metadata": {},
   "outputs": [],
   "source": [
    "# Importing required metrices and model for the dataset\n",
    "from sklearn.model_selection import train_test_split\n",
    "from sklearn.linear_model import LinearRegression\n",
    "from sklearn.metrics import r2_score"
   ]
  },
  {
   "cell_type": "code",
   "execution_count": 30,
   "metadata": {},
   "outputs": [
    {
     "name": "stdout",
     "output_type": "stream",
     "text": [
      "max r2 score corresponding to 45 is 0.23654321141014822\n"
     ]
    }
   ],
   "source": [
    "# Finding the best random state\n",
    "max_r_score=0\n",
    "for r_state in range(42,100):\n",
    "    x_train,x_test,y_train,y_test=train_test_split(x,y,random_state=r_state,test_size=0.20)\n",
    "    lr=LinearRegression()\n",
    "    lr.fit(x_train,y_train)\n",
    "    y_pred=lr.predict(x_test)\n",
    "    r2_scr=r2_score(y_test,y_pred)\n",
    "    if r2_scr>max_r_score:\n",
    "        max_r_score=r2_scr\n",
    "        final_r_state=r_state\n",
    "print(\"max r2 score corresponding to\",final_r_state,\"is\",max_r_score)"
   ]
  },
  {
   "cell_type": "markdown",
   "metadata": {},
   "source": [
    "We can see that at random_state=45, the best r2_score is obtained so that we can create our train_test_split with this random state"
   ]
  },
  {
   "cell_type": "code",
   "execution_count": 31,
   "metadata": {},
   "outputs": [],
   "source": [
    "# Creating train_test_split using best random_state\n",
    "x_train,x_test,y_train,y_test=train_test_split(x,y,random_state=45,test_size=.20)"
   ]
  },
  {
   "cell_type": "markdown",
   "metadata": {},
   "source": [
    "## Finding the best model"
   ]
  },
  {
   "cell_type": "code",
   "execution_count": 32,
   "metadata": {},
   "outputs": [],
   "source": [
    "#Importing the algorithms and other parameters\n",
    "from sklearn.linear_model import LinearRegression,Lasso,Ridge,ElasticNet\n",
    "from sklearn.svm import SVR\n",
    "from sklearn.neighbors import KNeighborsRegressor\n",
    "from sklearn.tree import DecisionTreeRegressor"
   ]
  },
  {
   "cell_type": "code",
   "execution_count": 33,
   "metadata": {},
   "outputs": [],
   "source": [
    "LR=LinearRegression()\n",
    "l=Lasso()\n",
    "en=ElasticNet()\n",
    "rd=Ridge()\n",
    "svr=SVR()\n",
    "dtr=DecisionTreeRegressor()\n",
    "knr=KNeighborsRegressor()"
   ]
  },
  {
   "cell_type": "code",
   "execution_count": 34,
   "metadata": {},
   "outputs": [],
   "source": [
    "models= []\n",
    "models.append(('Linear Regression',LR))\n",
    "models.append(('Lasso Regression',l))\n",
    "models.append(('Elastic Net Regression',en))\n",
    "models.append(('Ridge Regression',rd))\n",
    "models.append(('Support Vector Regressor',svr))\n",
    "models.append(('Decision Tree Regressor',dtr))\n",
    "models.append(('KNeighbors Regressor',knr))"
   ]
  },
  {
   "cell_type": "code",
   "execution_count": 35,
   "metadata": {},
   "outputs": [],
   "source": [
    "#Importing required metrics\n",
    "from sklearn.metrics import mean_absolute_error,mean_squared_error\n",
    "from sklearn.model_selection import cross_val_score"
   ]
  },
  {
   "cell_type": "code",
   "execution_count": 36,
   "metadata": {},
   "outputs": [
    {
     "name": "stdout",
     "output_type": "stream",
     "text": [
      "****************************** Linear Regression ***************************\n",
      "\n",
      "\n",
      "LinearRegression()\n",
      "\n",
      "\n",
      "r2_score:  0.23654321141014822\n",
      "\n",
      "\n",
      "cross_val_score:  0.17565567782818364\n",
      "\n",
      "\n",
      "Standard Deviation:  0.033797180632943895\n",
      "\n",
      "\n",
      "Mean Absolute Error:  194.82158724767254\n",
      "\n",
      "\n",
      "Mean Squared Error:  127969.44184450051\n",
      "\n",
      "\n",
      "Root Mean Squared Error:  357.72816753018\n",
      "\n",
      "\n",
      "\n",
      "****************************** Lasso Regression ***************************\n",
      "\n",
      "\n",
      "Lasso()\n",
      "\n",
      "\n",
      "r2_score:  0.23593495424579336\n",
      "\n",
      "\n",
      "cross_val_score:  0.17600782151616828\n",
      "\n",
      "\n",
      "Standard Deviation:  0.03282125988944436\n",
      "\n",
      "\n",
      "Mean Absolute Error:  194.3651159338286\n",
      "\n",
      "\n",
      "Mean Squared Error:  128071.39696623595\n",
      "\n",
      "\n",
      "Root Mean Squared Error:  357.8706427834448\n",
      "\n",
      "\n",
      "\n",
      "****************************** Elastic Net Regression ***************************\n",
      "\n",
      "\n",
      "ElasticNet()\n",
      "\n",
      "\n",
      "r2_score:  0.11515148796053432\n",
      "\n",
      "\n",
      "cross_val_score:  0.09264820528959039\n",
      "\n",
      "\n",
      "Standard Deviation:  0.012981518238482677\n",
      "\n",
      "\n",
      "Mean Absolute Error:  231.2320044360901\n",
      "\n",
      "\n",
      "Mean Squared Error:  148316.93410150442\n",
      "\n",
      "\n",
      "Root Mean Squared Error:  385.11937642957463\n",
      "\n",
      "\n",
      "\n",
      "****************************** Ridge Regression ***************************\n",
      "\n",
      "\n",
      "Ridge()\n",
      "\n",
      "\n",
      "r2_score:  0.23634758823647883\n",
      "\n",
      "\n",
      "cross_val_score:  0.1759817465591748\n",
      "\n",
      "\n",
      "Standard Deviation:  0.0332189612317022\n",
      "\n",
      "\n",
      "Mean Absolute Error:  194.8104500205929\n",
      "\n",
      "\n",
      "Mean Squared Error:  128002.23189721924\n",
      "\n",
      "\n",
      "Root Mean Squared Error:  357.7739955575576\n",
      "\n",
      "\n",
      "\n",
      "****************************** Support Vector Regressor ***************************\n",
      "\n",
      "\n",
      "SVR()\n",
      "\n",
      "\n",
      "r2_score:  -0.033821304206459235\n",
      "\n",
      "\n",
      "cross_val_score:  -0.04287826060085418\n",
      "\n",
      "\n",
      "Standard Deviation:  0.05789594950908748\n",
      "\n",
      "\n",
      "Mean Absolute Error:  191.10059275509175\n",
      "\n",
      "\n",
      "Mean Squared Error:  173287.52228481098\n",
      "\n",
      "\n",
      "Root Mean Squared Error:  416.278178967876\n",
      "\n",
      "\n",
      "\n",
      "****************************** Decision Tree Regressor ***************************\n",
      "\n",
      "\n",
      "DecisionTreeRegressor()\n",
      "\n",
      "\n",
      "r2_score:  0.2400944757071074\n",
      "\n",
      "\n",
      "cross_val_score:  0.18528796489695887\n",
      "\n",
      "\n",
      "Standard Deviation:  0.029293403244062287\n",
      "\n",
      "\n",
      "Mean Absolute Error:  189.5202562773394\n",
      "\n",
      "\n",
      "Mean Squared Error:  127374.18443541577\n",
      "\n",
      "\n",
      "Root Mean Squared Error:  356.89520091395985\n",
      "\n",
      "\n",
      "\n",
      "****************************** KNeighbors Regressor ***************************\n",
      "\n",
      "\n",
      "KNeighborsRegressor()\n",
      "\n",
      "\n",
      "r2_score:  0.25462091137061227\n",
      "\n",
      "\n",
      "cross_val_score:  -0.26090339975324084\n",
      "\n",
      "\n",
      "Standard Deviation:  0.509888258957118\n",
      "\n",
      "\n",
      "Mean Absolute Error:  192.29621621621624\n",
      "\n",
      "\n",
      "Mean Squared Error:  124939.28583783786\n",
      "\n",
      "\n",
      "Root Mean Squared Error:  353.4675173730082\n",
      "\n",
      "\n",
      "\n"
     ]
    }
   ],
   "source": [
    "#Finding the required metrices for all models together using a for loop\n",
    "Model=[]\n",
    "score=[]\n",
    "cvs=[]\n",
    "sd=[]\n",
    "mae=[]\n",
    "mse=[]\n",
    "rmse=[]\n",
    "for name,model in models:\n",
    "    print('******************************',name,'***************************')\n",
    "    print('\\n')\n",
    "    Model.append(name)\n",
    "    model.fit(x_train,y_train)\n",
    "    print(model)\n",
    "    pre=model.predict(x_test)\n",
    "    print('\\n')\n",
    "    AS=r2_score(y_test,pre)\n",
    "    print('r2_score: ',AS)\n",
    "    score.append(AS*100)\n",
    "    print('\\n')\n",
    "    sc=cross_val_score(model,x,y,cv=5,scoring='r2').mean()\n",
    "    print('cross_val_score: ',sc)\n",
    "    cvs.append(sc*100)\n",
    "    print('\\n')\n",
    "    std=cross_val_score(model,x,y,cv=5,scoring='r2').std()\n",
    "    print('Standard Deviation: ',std)\n",
    "    sd.append(std)\n",
    "    print('\\n')\n",
    "    MAE=mean_absolute_error(y_test,pre)\n",
    "    print('Mean Absolute Error: ',MAE)\n",
    "    mae.append(MAE)\n",
    "    print('\\n')\n",
    "    MSE=mean_squared_error(y_test,pre)\n",
    "    print('Mean Squared Error: ',MSE)\n",
    "    mse.append(MSE)\n",
    "    print('\\n')\n",
    "    RMSE=np.sqrt(mean_squared_error(y_test,pre))\n",
    "    print('Root Mean Squared Error: ',RMSE)\n",
    "    rmse.append(RMSE)\n",
    "    print('\\n\\n')"
   ]
  },
  {
   "cell_type": "code",
   "execution_count": 37,
   "metadata": {},
   "outputs": [
    {
     "data": {
      "text/html": [
       "<div>\n",
       "<style scoped>\n",
       "    .dataframe tbody tr th:only-of-type {\n",
       "        vertical-align: middle;\n",
       "    }\n",
       "\n",
       "    .dataframe tbody tr th {\n",
       "        vertical-align: top;\n",
       "    }\n",
       "\n",
       "    .dataframe thead th {\n",
       "        text-align: right;\n",
       "    }\n",
       "</style>\n",
       "<table border=\"1\" class=\"dataframe\">\n",
       "  <thead>\n",
       "    <tr style=\"text-align: right;\">\n",
       "      <th></th>\n",
       "      <th>Model</th>\n",
       "      <th>r2_score</th>\n",
       "      <th>Cross_val_score</th>\n",
       "      <th>Standard_deviation</th>\n",
       "      <th>Mean_absolute_error</th>\n",
       "      <th>Mean_squared_error</th>\n",
       "      <th>Root_Mean_Squared_error</th>\n",
       "    </tr>\n",
       "  </thead>\n",
       "  <tbody>\n",
       "    <tr>\n",
       "      <th>0</th>\n",
       "      <td>Linear Regression</td>\n",
       "      <td>23.654321</td>\n",
       "      <td>17.565568</td>\n",
       "      <td>0.033797</td>\n",
       "      <td>194.821587</td>\n",
       "      <td>127969.441845</td>\n",
       "      <td>357.728168</td>\n",
       "    </tr>\n",
       "    <tr>\n",
       "      <th>1</th>\n",
       "      <td>Lasso Regression</td>\n",
       "      <td>23.593495</td>\n",
       "      <td>17.600782</td>\n",
       "      <td>0.032821</td>\n",
       "      <td>194.365116</td>\n",
       "      <td>128071.396966</td>\n",
       "      <td>357.870643</td>\n",
       "    </tr>\n",
       "    <tr>\n",
       "      <th>2</th>\n",
       "      <td>Elastic Net Regression</td>\n",
       "      <td>11.515149</td>\n",
       "      <td>9.264821</td>\n",
       "      <td>0.012982</td>\n",
       "      <td>231.232004</td>\n",
       "      <td>148316.934102</td>\n",
       "      <td>385.119376</td>\n",
       "    </tr>\n",
       "    <tr>\n",
       "      <th>3</th>\n",
       "      <td>Ridge Regression</td>\n",
       "      <td>23.634759</td>\n",
       "      <td>17.598175</td>\n",
       "      <td>0.033219</td>\n",
       "      <td>194.810450</td>\n",
       "      <td>128002.231897</td>\n",
       "      <td>357.773996</td>\n",
       "    </tr>\n",
       "    <tr>\n",
       "      <th>4</th>\n",
       "      <td>Support Vector Regressor</td>\n",
       "      <td>-3.382130</td>\n",
       "      <td>-4.287826</td>\n",
       "      <td>0.057896</td>\n",
       "      <td>191.100593</td>\n",
       "      <td>173287.522285</td>\n",
       "      <td>416.278179</td>\n",
       "    </tr>\n",
       "    <tr>\n",
       "      <th>5</th>\n",
       "      <td>Decision Tree Regressor</td>\n",
       "      <td>24.009448</td>\n",
       "      <td>18.528796</td>\n",
       "      <td>0.029293</td>\n",
       "      <td>189.520256</td>\n",
       "      <td>127374.184435</td>\n",
       "      <td>356.895201</td>\n",
       "    </tr>\n",
       "    <tr>\n",
       "      <th>6</th>\n",
       "      <td>KNeighbors Regressor</td>\n",
       "      <td>25.462091</td>\n",
       "      <td>-26.090340</td>\n",
       "      <td>0.509888</td>\n",
       "      <td>192.296216</td>\n",
       "      <td>124939.285838</td>\n",
       "      <td>353.467517</td>\n",
       "    </tr>\n",
       "  </tbody>\n",
       "</table>\n",
       "</div>"
      ],
      "text/plain": [
       "                      Model   r2_score  Cross_val_score  Standard_deviation  \\\n",
       "0         Linear Regression  23.654321        17.565568            0.033797   \n",
       "1          Lasso Regression  23.593495        17.600782            0.032821   \n",
       "2    Elastic Net Regression  11.515149         9.264821            0.012982   \n",
       "3          Ridge Regression  23.634759        17.598175            0.033219   \n",
       "4  Support Vector Regressor  -3.382130        -4.287826            0.057896   \n",
       "5   Decision Tree Regressor  24.009448        18.528796            0.029293   \n",
       "6      KNeighbors Regressor  25.462091       -26.090340            0.509888   \n",
       "\n",
       "   Mean_absolute_error  Mean_squared_error  Root_Mean_Squared_error  \n",
       "0           194.821587       127969.441845               357.728168  \n",
       "1           194.365116       128071.396966               357.870643  \n",
       "2           231.232004       148316.934102               385.119376  \n",
       "3           194.810450       128002.231897               357.773996  \n",
       "4           191.100593       173287.522285               416.278179  \n",
       "5           189.520256       127374.184435               356.895201  \n",
       "6           192.296216       124939.285838               353.467517  "
      ]
     },
     "execution_count": 37,
     "metadata": {},
     "output_type": "execute_result"
    }
   ],
   "source": [
    "#Finalizing the result\n",
    "result=pd.DataFrame({'Model':Model, 'r2_score': score, 'Cross_val_score':cvs, 'Standard_deviation':sd,\n",
    "                    'Mean_absolute_error':mae, 'Mean_squared_error':mse, 'Root_Mean_Squared_error':rmse})\n",
    "result"
   ]
  },
  {
   "cell_type": "markdown",
   "metadata": {},
   "source": [
    "## Random Forest Regressor"
   ]
  },
  {
   "cell_type": "code",
   "execution_count": 38,
   "metadata": {},
   "outputs": [
    {
     "name": "stdout",
     "output_type": "stream",
     "text": [
      "{'n_estimators': 500}\n",
      "0.17860490876552895\n"
     ]
    }
   ],
   "source": [
    "from sklearn.model_selection import GridSearchCV\n",
    "from sklearn.ensemble import RandomForestRegressor\n",
    "rfr=RandomForestRegressor(random_state=45)   #Using the best random state we obtained\n",
    "parameters={'n_estimators':[10,50,100,500]}\n",
    "grid=GridSearchCV(rfr,parameters,cv=5,scoring='r2')\n",
    "grid.fit(x_train,y_train)\n",
    "print(grid.best_params_)  #Printing the best parameters obtained\n",
    "print(grid.best_score_) #Mean cross-validated score of best_estimator"
   ]
  },
  {
   "cell_type": "code",
   "execution_count": 39,
   "metadata": {},
   "outputs": [
    {
     "name": "stdout",
     "output_type": "stream",
     "text": [
      "r2_score:  24.00320074815504\n",
      "Cross validation score:  18.526219902836218\n",
      "Standard deviation:  0.029231520728342533\n",
      "\n",
      "\n",
      "Mean absolute error:  189.64271752303043\n",
      "Mean squared error:  127384.65526241872\n",
      "Root Mean squared error:  356.9098699425651\n"
     ]
    }
   ],
   "source": [
    "#Using the best parameters obtained\n",
    "RF=RandomForestRegressor(random_state=45, n_estimators=500)\n",
    "RF.fit(x_train,y_train)\n",
    "pred=RF.predict(x_test)\n",
    "print('r2_score: ',r2_score(y_test,pred)*100)\n",
    "print('Cross validation score: ',cross_val_score(RF,x,y,cv=5,scoring='r2').mean()*100)\n",
    "print('Standard deviation: ',cross_val_score(RF,x,y,cv=5,scoring='r2').std())\n",
    "print('\\n')\n",
    "print('Mean absolute error: ',mean_absolute_error(y_test,pred))\n",
    "print('Mean squared error: ',mean_squared_error(y_test,pred))\n",
    "print('Root Mean squared error: ',np.sqrt(mean_squared_error(y_test,pred)))"
   ]
  },
  {
   "cell_type": "markdown",
   "metadata": {},
   "source": [
    "## AdaBoost Regressor"
   ]
  },
  {
   "cell_type": "code",
   "execution_count": 40,
   "metadata": {},
   "outputs": [
    {
     "name": "stdout",
     "output_type": "stream",
     "text": [
      "{'learning_rate': 0.001, 'loss': 'square', 'n_estimators': 10}\n",
      "0.17969291732861664\n"
     ]
    }
   ],
   "source": [
    "from sklearn.ensemble import AdaBoostRegressor\n",
    "adr=AdaBoostRegressor(random_state=45)   #Using the best random state we obtained\n",
    "parameters={'n_estimators':[10,50,100,500,1000],'learning_rate':[0.001,0.01,0.1,1],'loss':['linear','square']}\n",
    "grid=GridSearchCV(adr,parameters,cv=5,scoring='r2')\n",
    "grid.fit(x_train,y_train)\n",
    "print(grid.best_params_)  #Printing the best parameters obtained\n",
    "print(grid.best_score_) #Mean cross-validated score of best_estimator"
   ]
  },
  {
   "cell_type": "code",
   "execution_count": 41,
   "metadata": {},
   "outputs": [
    {
     "name": "stdout",
     "output_type": "stream",
     "text": [
      "r2_score:  24.154324757773715\n",
      "Cross validation score:  18.327966451471916\n",
      "Standard deviation:  0.030664556146517235\n",
      "\n",
      "\n",
      "Mean absolute error:  189.35788847630187\n",
      "Mean squared error:  127131.34354328494\n",
      "Root Mean squared error:  356.55482543822757\n"
     ]
    }
   ],
   "source": [
    "#Using the best parameters obtained\n",
    "adr=AdaBoostRegressor(random_state=45, n_estimators=10, learning_rate=0.001, loss='square')\n",
    "adr.fit(x_train,y_train)\n",
    "pred=adr.predict(x_test)\n",
    "print(\"r2_score: \",r2_score(y_test,pred)*100)\n",
    "print('Cross validation score: ',cross_val_score(adr,x,y,cv=5,scoring='r2').mean()*100)\n",
    "print('Standard deviation: ',cross_val_score(adr,x,y,cv=5,scoring='r2').std())\n",
    "print('\\n')\n",
    "print('Mean absolute error: ',mean_absolute_error(y_test,pred))\n",
    "print('Mean squared error: ',mean_squared_error(y_test,pred))\n",
    "print('Root Mean squared error: ',np.sqrt(mean_squared_error(y_test,pred)))"
   ]
  },
  {
   "cell_type": "markdown",
   "metadata": {},
   "source": [
    "## Gradient Boosting Regressor"
   ]
  },
  {
   "cell_type": "code",
   "execution_count": 42,
   "metadata": {},
   "outputs": [
    {
     "name": "stdout",
     "output_type": "stream",
     "text": [
      "{'n_estimators': 50}\n",
      "0.17906121566431718\n"
     ]
    }
   ],
   "source": [
    "from sklearn.ensemble import GradientBoostingRegressor\n",
    "gbr=GradientBoostingRegressor(random_state=45)   #Using the best random state we obtained\n",
    "parameters={'n_estimators':[10,50,100,500,1000]}\n",
    "grid=GridSearchCV(gbr,parameters,cv=5,scoring='r2')\n",
    "grid.fit(x_train,y_train)\n",
    "print(grid.best_params_)  #Printing the best parameters obtained\n",
    "print(grid.best_score_) #Mean cross-validated score of best_estimator"
   ]
  },
  {
   "cell_type": "code",
   "execution_count": 43,
   "metadata": {},
   "outputs": [
    {
     "name": "stdout",
     "output_type": "stream",
     "text": [
      "r2_score:  23.9744123114883\n",
      "Cross validation score:  18.53543091791307\n",
      "Standard deviation:  0.02944319735328972\n",
      "\n",
      "\n",
      "Mean absolute error:  189.67122771887713\n",
      "Mean squared error:  127432.90999309735\n",
      "Root Mean squared error:  356.9774642650392\n"
     ]
    }
   ],
   "source": [
    "#Using the best parameters obtained\n",
    "gbr=GradientBoostingRegressor(random_state=45, n_estimators=50)\n",
    "gbr.fit(x_train,y_train)\n",
    "pred=gbr.predict(x_test)\n",
    "print(\"r2_score: \",r2_score(y_test,pred)*100)\n",
    "print('Cross validation score: ',cross_val_score(gbr,x,y,cv=5,scoring='r2').mean()*100)\n",
    "print('Standard deviation: ',cross_val_score(gbr,x,y,cv=5,scoring='r2').std())\n",
    "print('\\n')\n",
    "print('Mean absolute error: ',mean_absolute_error(y_test,pred))\n",
    "print('Mean squared error: ',mean_squared_error(y_test,pred))\n",
    "print('Root Mean squared error: ',np.sqrt(mean_squared_error(y_test,pred)))"
   ]
  },
  {
   "cell_type": "markdown",
   "metadata": {},
   "source": [
    "We can see that Random Forest Regressor and KNeighbors Regressor are performing well compared to other algorithms. Now we will try Hyperparameter Tuning to find out the best parameters and try to increase the scores."
   ]
  },
  {
   "cell_type": "markdown",
   "metadata": {},
   "source": [
    "## Hyperparameter Tuning"
   ]
  },
  {
   "cell_type": "code",
   "execution_count": 44,
   "metadata": {},
   "outputs": [],
   "source": [
    "# Creating parameter list to pass in GridSearchCV\n",
    "parameters={'criterion':['mse','mae'],'n_estimators':[50,100,500],'max_features':['auto','sqrt','log2']}"
   ]
  },
  {
   "cell_type": "code",
   "execution_count": 45,
   "metadata": {},
   "outputs": [
    {
     "name": "stdout",
     "output_type": "stream",
     "text": [
      "{'criterion': 'mse', 'max_features': 'auto', 'n_estimators': 50}\n",
      "0.17945916883561358\n"
     ]
    }
   ],
   "source": [
    "# Using GridSearchCV to run the parameters and checking final accuracy\n",
    "rf=RandomForestRegressor()\n",
    "grid=GridSearchCV(rf,parameters,cv=5,scoring='r2')\n",
    "grid.fit(x_train,y_train)\n",
    "print(grid.best_params_)   \n",
    "print(grid.best_score_)  "
   ]
  },
  {
   "cell_type": "code",
   "execution_count": 46,
   "metadata": {},
   "outputs": [
    {
     "name": "stdout",
     "output_type": "stream",
     "text": [
      "r2_score:  23.959960836089834\n",
      "Cross validation score:  18.46870003501898\n",
      "Standard deviation:  0.028778886504331264\n",
      "\n",
      "\n",
      "Mean absolute error:  189.6600444912149\n",
      "Mean squared error:  127457.13333184042\n",
      "Root Mean squared error:  357.0113910393342\n"
     ]
    }
   ],
   "source": [
    "# Using the best parameters obtained\n",
    "RF=RandomForestRegressor(random_state=45, n_estimators=50, criterion='mse', max_features='auto')\n",
    "RF.fit(x_train,y_train)\n",
    "pred=RF.predict(x_test)\n",
    "print('r2_score: ',r2_score(y_test,pred)*100)\n",
    "print('Cross validation score: ',cross_val_score(RF,x,y,cv=5,scoring='r2').mean()*100)\n",
    "print('Standard deviation: ',cross_val_score(RF,x,y,cv=5,scoring='r2').std())\n",
    "print('\\n')\n",
    "print('Mean absolute error: ',mean_absolute_error(y_test,pred))\n",
    "print('Mean squared error: ',mean_squared_error(y_test,pred))\n",
    "print('Root Mean squared error: ',np.sqrt(mean_squared_error(y_test,pred))) "
   ]
  },
  {
   "cell_type": "markdown",
   "metadata": {},
   "source": [
    "After applying Hyperparameter Tuning, we can see that RandomForestRegressor improve acuuracy r2_score slightly decreased. Now we will finalize the model."
   ]
  },
  {
   "cell_type": "markdown",
   "metadata": {},
   "source": [
    "## Finalizing the model"
   ]
  },
  {
   "cell_type": "code",
   "execution_count": 47,
   "metadata": {},
   "outputs": [
    {
     "name": "stdout",
     "output_type": "stream",
     "text": [
      "Predictions of Random Forest Regressor:  [359.67618147 359.67618147 359.67618147 ... 544.06711797 544.06711797\n",
      " 544.06711797]\n"
     ]
    }
   ],
   "source": [
    "rf_prediction=RF.predict(x)\n",
    "print('Predictions of Random Forest Regressor: ',rf_prediction)"
   ]
  },
  {
   "cell_type": "code",
   "execution_count": 48,
   "metadata": {},
   "outputs": [],
   "source": [
    "# Saving the model\n",
    "import pickle\n",
    "filename='Flight_Price_Project.pkl'   #Specifying the filename\n",
    "pickle.dump(RF,open(filename,'wb'))"
   ]
  },
  {
   "cell_type": "code",
   "execution_count": 49,
   "metadata": {},
   "outputs": [],
   "source": [
    "# Saving the predicted values\n",
    "results=pd.DataFrame(rf_prediction)\n",
    "results.to_csv('Flight_Price_Prediction_Results.csv')"
   ]
  },
  {
   "cell_type": "code",
   "execution_count": null,
   "metadata": {},
   "outputs": [],
   "source": []
  }
 ],
 "metadata": {
  "kernelspec": {
   "display_name": "Python 3",
   "language": "python",
   "name": "python3"
  },
  "language_info": {
   "codemirror_mode": {
    "name": "ipython",
    "version": 3
   },
   "file_extension": ".py",
   "mimetype": "text/x-python",
   "name": "python",
   "nbconvert_exporter": "python",
   "pygments_lexer": "ipython3",
   "version": "3.7.6"
  }
 },
 "nbformat": 4,
 "nbformat_minor": 4
}
